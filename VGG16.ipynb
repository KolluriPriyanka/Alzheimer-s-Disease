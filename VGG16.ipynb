{
  "cells": [
    {
      "cell_type": "markdown",
      "metadata": {
        "id": "view-in-github",
        "colab_type": "text"
      },
      "source": [
        "<a href=\"https://colab.research.google.com/github/KolluriPriyanka/Alzheimer-s-Disease/blob/main/VGG16.ipynb\" target=\"_parent\"><img src=\"https://colab.research.google.com/assets/colab-badge.svg\" alt=\"Open In Colab\"/></a>"
      ]
    },
    {
      "cell_type": "code",
      "execution_count": null,
      "metadata": {
        "id": "abdXcxvxcD2X"
      },
      "outputs": [],
      "source": [
        "from google.colab import drive"
      ]
    },
    {
      "cell_type": "code",
      "execution_count": null,
      "metadata": {
        "colab": {
          "base_uri": "https://localhost:8080/"
        },
        "id": "qkKUUMD8cK83",
        "outputId": "deae2abe-4b7c-4da6-c2d9-fa62716c93bc"
      },
      "outputs": [
        {
          "name": "stdout",
          "output_type": "stream",
          "text": [
            "Mounted at /content/drive\n"
          ]
        }
      ],
      "source": [
        "drive.mount('/content/drive');"
      ]
    },
    {
      "cell_type": "code",
      "execution_count": null,
      "metadata": {
        "id": "UFv7d-X3cND6"
      },
      "outputs": [],
      "source": [
        "from keras.preprocessing.image import ImageDataGenerator\n",
        "from keras.models import Sequential\n",
        "from keras.layers import Dense,Flatten,Dropout\n",
        "from keras import backend as k\n",
        "from keras.applications import VGG16\n",
        "from matplotlib import pyplot as plt"
      ]
    },
    {
      "cell_type": "code",
      "execution_count": null,
      "metadata": {
        "id": "HC3GKgPxcTGL"
      },
      "outputs": [],
      "source": [
        "def prepro_data(pathTrain,pathTest,img_size,batch_size):\n",
        "\n",
        "  if k.image_data_format() == 'channels_first':\n",
        "    input_shape = (3,img_size[0],img_size[1])\n",
        "  else:\n",
        "    input_shape = (img_size[0],img_size[1],3)\n",
        "\n",
        "  train_gen = ImageDataGenerator(rescale = 1./255)\n",
        "  test_gen = ImageDataGenerator(rescale = 1./255)\n",
        "\n",
        "  train_data = train_gen.flow_from_directory(\n",
        "      pathTrain,\n",
        "      target_size = img_size,\n",
        "      # batch_size = batch_size,\n",
        "      class_mode = 'categorical'\n",
        "  )\n",
        "\n",
        "  test_data = test_gen.flow_from_directory(\n",
        "      pathTest,\n",
        "      target_size = img_size,\n",
        "      # batch_size = batch_size,\n",
        "      class_mode = 'categorical'\n",
        "  )\n",
        "\n",
        "  print(\" Train Data Image Shape = {}\".format(train_data.image_shape))\n",
        "  print(\" Test Data Image Shape = {}\".format(test_data.image_shape))\n",
        "  print(\"Input Shape = {} \".format(input_shape))\n",
        "\n",
        "  return train_data , test_data , input_shape"
      ]
    },
    {
      "cell_type": "code",
      "execution_count": null,
      "metadata": {
        "id": "S_gY8Rx9cbU0"
      },
      "outputs": [],
      "source": [
        "pathTrain  = '/content/drive/MyDrive/Alzheimer_s Dataset/test'\n",
        "pathTest ='/content/drive/MyDrive/Alzheimer_s Dataset/test'"
      ]
    },
    {
      "cell_type": "code",
      "execution_count": null,
      "metadata": {
        "colab": {
          "base_uri": "https://localhost:8080/"
        },
        "id": "oay4_d7Zco15",
        "outputId": "f251a53b-d60b-47d7-c15a-e1954f545d90"
      },
      "outputs": [
        {
          "name": "stdout",
          "output_type": "stream",
          "text": [
            "Found 1279 images belonging to 4 classes.\n",
            "Found 1279 images belonging to 4 classes.\n",
            " Train Data Image Shape = (225, 225, 3)\n",
            " Test Data Image Shape = (225, 225, 3)\n",
            "Input Shape = (225, 225, 3) \n"
          ]
        }
      ],
      "source": [
        "train_data , test_data, input_shape = prepro_data(pathTrain,pathTest,(225,225),8)"
      ]
    },
    {
      "cell_type": "code",
      "execution_count": null,
      "metadata": {
        "colab": {
          "base_uri": "https://localhost:8080/"
        },
        "id": "3_GVLit0cvJK",
        "outputId": "7c182bd7-cac1-47bc-d5a5-27d13168a119"
      },
      "outputs": [
        {
          "name": "stdout",
          "output_type": "stream",
          "text": [
            "Downloading data from https://storage.googleapis.com/tensorflow/keras-applications/vgg16/vgg16_weights_tf_dim_ordering_tf_kernels_notop.h5\n",
            "58889256/58889256 [==============================] - 3s 0us/step\n"
          ]
        }
      ],
      "source": [
        "base_model = VGG16(weights = 'imagenet',include_top = False,\n",
        "                      input_shape = input_shape)"
      ]
    },
    {
      "cell_type": "code",
      "execution_count": null,
      "metadata": {
        "id": "A2i3R8iDs0Rc"
      },
      "outputs": [],
      "source": [
        "from keras import regularizers"
      ]
    },
    {
      "cell_type": "code",
      "execution_count": null,
      "metadata": {
        "id": "ybfpz7E4tWgv"
      },
      "outputs": [],
      "source": [
        "import tensorflow as tf"
      ]
    },
    {
      "cell_type": "code",
      "execution_count": null,
      "metadata": {
        "id": "g4EPT1hl4_qv"
      },
      "outputs": [],
      "source": [
        "def show_result(history):\n",
        "  plt.figure(figsize=(5,3))\n",
        "  plt.title(\"Loss Training Vs Validation\")\n",
        "  plt.plot(history.history['loss'],color='blue',label='Train Loss')\n",
        "  plt.plot(history.history['val_loss'],color='orange',label='Val Loss')\n",
        "  plt.legend()\n",
        "  plt.show()\n",
        "\n",
        "  plt.figure(figsize=(5,3))\n",
        "  plt.title(\"Accuracy Training Vs Validation\")\n",
        "  plt.plot(history.history['accuracy'],color='blue',label='Train Acc')\n",
        "  plt.plot(history.history['val_accuracy'],color='orange',label='Val Acc')\n",
        "  plt.legend()\n",
        "  plt.show()\n"
      ]
    },
    {
      "cell_type": "code",
      "execution_count": null,
      "metadata": {
        "id": "Bum44aT0cxjk"
      },
      "outputs": [],
      "source": [
        "# Load the pre-trained VGG16 model\n",
        "base_model = VGG16(input_shape=(224,224,3), include_top=False)\n",
        "\n",
        "# Freeze the layers in the pre-trained model\n",
        "for layer in base_model.layers:\n",
        "    layer.trainable = False\n",
        "\n",
        "\n",
        "\n",
        "model = Sequential()\n",
        "model.add(base_model)\n",
        "model.add(Flatten())\n",
        "model.add(Dense(256, activation='relu', kernel_regularizer=regularizers.l2(0.01)))  # Add weight decay to the Dense layer\n",
        "model.add(Dropout(0.2))\n",
        "model.add(Dense(128, activation='relu', kernel_regularizer=regularizers.l2(0.01))) # Add weight decay to the Dense layer\n",
        "model.add(Dropout(0.2))\n",
        "model.add(Dense(64, activation='relu', kernel_regularizer=regularizers.l2(0.01)))\n",
        "model.add(Dropout(0.2))\n",
        "model.add(Dense(4, activation='softmax'))\n",
        "\n",
        "weight_decay = 0.001\n",
        "# Compile the model\n",
        "optimizer = tf.keras.optimizers.legacy.Adam(learning_rate=0.001, decay = weight_decay)\n",
        "model.compile(optimizer='adam', loss='categorical_crossentropy', metrics=['accuracy'])\n"
      ]
    },
    {
      "cell_type": "code",
      "execution_count": null,
      "metadata": {
        "id": "17ySj7N4uEXo"
      },
      "outputs": [],
      "source": [
        "from tensorflow import keras"
      ]
    },
    {
      "cell_type": "code",
      "execution_count": null,
      "metadata": {
        "colab": {
          "background_save": true,
          "base_uri": "https://localhost:8080/"
        },
        "id": "oHMzuJ42CZrm",
        "outputId": "8c986fc9-a351-43c5-a190-40f88233809b"
      },
      "outputs": [
        {
          "name": "stdout",
          "output_type": "stream",
          "text": [
            "Epoch 1/20\n",
            "40/40 [==============================] - 434s 10s/step - loss: 5.0988 - accuracy: 0.4550 - val_loss: 3.2875 - val_accuracy: 0.4988\n",
            "Epoch 2/20\n",
            "40/40 [==============================] - 10s 250ms/step - loss: 2.9563 - accuracy: 0.4949 - val_loss: 2.5312 - val_accuracy: 0.5606\n",
            "Epoch 3/20\n",
            "40/40 [==============================] - 10s 256ms/step - loss: 2.3646 - accuracy: 0.5238 - val_loss: 2.1300 - val_accuracy: 0.5004\n",
            "Epoch 4/20\n",
            "40/40 [==============================] - 10s 253ms/step - loss: 2.0303 - accuracy: 0.5512 - val_loss: 1.9026 - val_accuracy: 0.5934\n",
            "Epoch 5/20\n",
            "40/40 [==============================] - 10s 254ms/step - loss: 1.8308 - accuracy: 0.5473 - val_loss: 1.7572 - val_accuracy: 0.5489\n",
            "Epoch 6/20\n",
            "40/40 [==============================] - 10s 254ms/step - loss: 1.6864 - accuracy: 0.5919 - val_loss: 1.5348 - val_accuracy: 0.6216\n",
            "Epoch 7/20\n",
            "40/40 [==============================] - 10s 255ms/step - loss: 1.5633 - accuracy: 0.6169 - val_loss: 1.5660 - val_accuracy: 0.7076\n",
            "Epoch 8/20\n",
            "40/40 [==============================] - 10s 259ms/step - loss: 1.5355 - accuracy: 0.5927 - val_loss: 1.4529 - val_accuracy: 0.6474\n",
            "Epoch 9/20\n",
            "40/40 [==============================] - 10s 258ms/step - loss: 1.4369 - accuracy: 0.6083 - val_loss: 1.2935 - val_accuracy: 0.7068\n",
            "Epoch 10/20\n",
            "40/40 [==============================] - 10s 256ms/step - loss: 1.3978 - accuracy: 0.6028 - val_loss: 1.2496 - val_accuracy: 0.7162\n",
            "Epoch 11/20\n",
            "40/40 [==============================] - 10s 257ms/step - loss: 1.2979 - accuracy: 0.6403 - val_loss: 1.1046 - val_accuracy: 0.7944\n",
            "Epoch 12/20\n",
            "40/40 [==============================] - 10s 256ms/step - loss: 1.1920 - accuracy: 0.6974 - val_loss: 1.0069 - val_accuracy: 0.8647\n",
            "Epoch 13/20\n",
            "40/40 [==============================] - 10s 257ms/step - loss: 1.2103 - accuracy: 0.6583 - val_loss: 1.1750 - val_accuracy: 0.7733\n",
            "Epoch 14/20\n",
            "40/40 [==============================] - 10s 256ms/step - loss: 1.1869 - accuracy: 0.6474 - val_loss: 0.9524 - val_accuracy: 0.8468\n",
            "Epoch 15/20\n",
            "40/40 [==============================] - 10s 260ms/step - loss: 1.0949 - accuracy: 0.6755 - val_loss: 0.8625 - val_accuracy: 0.8710\n",
            "Epoch 16/20\n",
            "40/40 [==============================] - 10s 257ms/step - loss: 1.0046 - accuracy: 0.7209 - val_loss: 0.7851 - val_accuracy: 0.8999\n",
            "Epoch 17/20\n",
            "40/40 [==============================] - 10s 259ms/step - loss: 0.9903 - accuracy: 0.7256 - val_loss: 0.7509 - val_accuracy: 0.8944\n",
            "Epoch 18/20\n",
            "40/40 [==============================] - 10s 261ms/step - loss: 0.9027 - accuracy: 0.7522 - val_loss: 0.8656 - val_accuracy: 0.7944\n",
            "Epoch 19/20\n",
            "40/40 [==============================] - 10s 259ms/step - loss: 0.9127 - accuracy: 0.7248 - val_loss: 0.6777 - val_accuracy: 0.9249\n",
            "Epoch 20/20\n",
            "40/40 [==============================] - 10s 261ms/step - loss: 0.8753 - accuracy: 0.7522 - val_loss: 0.6300 - val_accuracy: 0.9328\n"
          ]
        },
        {
          "data": {
            "image/png": "[encoded data removed]",
            "text/plain": [
              "<Figure size 500x300 with 1 Axes>"
            ]
          },
          "metadata": {},
          "output_type": "display_data"
        },
        {
          "data": {
            "image/png": "[encoded data removed]",
            "text/plain": [
              "<Figure size 500x300 with 1 Axes>"
            ]
          },
          "metadata": {},
          "output_type": "display_data"
        }
      ],
      "source": [
        "history = model.fit(train_data,epochs=20,validation_data=test_data)\n",
        "show_result(history)"
      ]
    },
    {
      "cell_type": "code",
      "execution_count": null,
      "metadata": {
        "colab": {
          "background_save": true
        },
        "id": "B4ucWpKxzkTr",
        "outputId": "f238f5cf-89e5-43c9-b51e-46838310f714"
      },
      "outputs": [
        {
          "name": "stdout",
          "output_type": "stream",
          "text": [
            "Model: \"sequential\"\n",
            "_________________________________________________________________\n",
            " Layer (type)                Output Shape              Param #   \n",
            "=================================================================\n",
            " vgg16 (Functional)          (None, 7, 7, 512)         14714688  \n",
            "                                                                 \n",
            " flatten (Flatten)           (None, 25088)             0         \n",
            "                                                                 \n",
            " dense (Dense)               (None, 256)               6422784   \n",
            "                                                                 \n",
            " dropout (Dropout)           (None, 256)               0         \n",
            "                                                                 \n",
            " dense_1 (Dense)             (None, 128)               32896     \n",
            "                                                                 \n",
            " dropout_1 (Dropout)         (None, 128)               0         \n",
            "                                                                 \n",
            " dense_2 (Dense)             (None, 64)                8256      \n",
            "                                                                 \n",
            " dropout_2 (Dropout)         (None, 64)                0         \n",
            "                                                                 \n",
            " dense_3 (Dense)             (None, 4)                 260       \n",
            "                                                                 \n",
            "=================================================================\n",
            "Total params: 21,178,884\n",
            "Trainable params: 6,464,196\n",
            "Non-trainable params: 14,714,688\n",
            "_________________________________________________________________\n",
            "None\n"
          ]
        }
      ],
      "source": [
        "print(model.summary())"
      ]
    },
    {
      "cell_type": "code",
      "execution_count": null,
      "metadata": {
        "colab": {
          "background_save": true
        },
        "id": "L0CFj4mUVl8L",
        "outputId": "e7537673-dcf1-49f8-c8fb-721c07b298a0"
      },
      "outputs": [
        {
          "name": "stdout",
          "output_type": "stream",
          "text": [
            "40/40 [==============================] - 5s 128ms/step - loss: 0.6300 - accuracy: 0.9328\n"
          ]
        },
        {
          "data": {
            "text/plain": [
              "[0.6299640536308289, 0.9327599406242371]"
            ]
          },
          "execution_count": 15,
          "metadata": {},
          "output_type": "execute_result"
        }
      ],
      "source": [
        "model.evaluate(test_data)"
      ]
    },
    {
      "cell_type": "code",
      "execution_count": null,
      "metadata": {
        "colab": {
          "background_save": true
        },
        "id": "jEU9db3xrnkB"
      },
      "outputs": [],
      "source": [
        "model.save('/content/drive/MyDrive/model.h5')"
      ]
    }
  ],
  "metadata": {
    "accelerator": "GPU",
    "colab": {
      "provenance": [],
      "include_colab_link": true
    },
    "gpuClass": "standard",
    "kernelspec": {
      "display_name": "Python 3",
      "name": "python3"
    },
    "language_info": {
      "name": "python"
    }
  },
  "nbformat": 4,
  "nbformat_minor": 0
}