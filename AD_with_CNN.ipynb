{
  "nbformat": 4,
  "nbformat_minor": 0,
  "metadata": {
    "colab": {
      "provenance": [],
      "authorship_tag": "ABX9TyNe8wasZFIg5NMnK22Quxpu",
      "include_colab_link": true
    },
    "kernelspec": {
      "name": "python3",
      "display_name": "Python 3"
    },
    "language_info": {
      "name": "python"
    },
    "accelerator": "GPU",
    "gpuClass": "standard"
  },
  "cells": [
    {
      "cell_type": "markdown",
      "metadata": {
        "id": "view-in-github",
        "colab_type": "text"
      },
      "source": [
        "<a href=\"https://colab.research.google.com/github/KolluriPriyanka/Alzheimer-s-Disease/blob/main/AD_with_CNN.ipynb\" target=\"_parent\"><img src=\"https://colab.research.google.com/assets/colab-badge.svg\" alt=\"Open In Colab\"/></a>"
      ]
    },
    {
      "cell_type": "code",
      "execution_count": 12,
      "metadata": {
        "id": "CORwiaMxIHfJ"
      },
      "outputs": [],
      "source": [
        "from google.colab import drive"
      ]
    },
    {
      "cell_type": "code",
      "source": [
        "drive.mount('/content/drive')"
      ],
      "metadata": {
        "colab": {
          "base_uri": "https://localhost:8080/"
        },
        "id": "smpZLnNgILeE",
        "outputId": "1e0ee94b-8fb4-46dd-81e8-5f6125c8d229"
      },
      "execution_count": 13,
      "outputs": [
        {
          "output_type": "stream",
          "name": "stdout",
          "text": [
            "Mounted at /content/drive\n"
          ]
        }
      ]
    },
    {
      "cell_type": "code",
      "source": [
        "import pandas as pd\n",
        "import numpy as np\n",
        "import matplotlib.pyplot as plt\n",
        "import tensorflow as tf\n",
        "import os \n",
        "import random \n",
        "import cv2\n",
        "\n",
        "import keras\n",
        "from keras.layers import GlobalAveragePooling2D, GlobalMaxPooling2D, Reshape, Dense, multiply, Permute, Concatenate, Conv2D, Add, Activation, Lambda\n",
        "from keras import backend as K\n",
        "from keras.activations import sigmoid\n",
        "from keras import layers\n",
        "from keras.preprocessing.image import ImageDataGenerator\n",
        "from keras import initializers\n",
        "from keras.models import Sequential"
      ],
      "metadata": {
        "id": "wVdrXTZnIWvi"
      },
      "execution_count": 14,
      "outputs": []
    },
    {
      "cell_type": "code",
      "source": [
        "!python --version"
      ],
      "metadata": {
        "colab": {
          "base_uri": "https://localhost:8080/"
        },
        "id": "p3FqbRdmIlwM",
        "outputId": "506ee228-888c-474c-8850-57b021972551"
      },
      "execution_count": 15,
      "outputs": [
        {
          "output_type": "stream",
          "name": "stdout",
          "text": [
            "Python 3.9.16\n"
          ]
        }
      ]
    },
    {
      "cell_type": "code",
      "source": [
        "print(tf.__version__)\n",
        "print(keras.__version__)"
      ],
      "metadata": {
        "colab": {
          "base_uri": "https://localhost:8080/"
        },
        "id": "ZxY6aTvFIoZW",
        "outputId": "5455150b-0371-4f7d-d7e0-dcf3f869548c"
      },
      "execution_count": 16,
      "outputs": [
        {
          "output_type": "stream",
          "name": "stdout",
          "text": [
            "2.11.0\n",
            "2.11.0\n"
          ]
        }
      ]
    },
    {
      "cell_type": "code",
      "source": [
        "train_path = \"/content/drive/MyDrive/Alzheimer's Dataset/Alzheimer_s Dataset/train\"\n",
        "test_path = \"/content/drive/MyDrive/Alzheimer's Dataset/Alzheimer_s Dataset/test\""
      ],
      "metadata": {
        "id": "BnfF6ZsqIoV2"
      },
      "execution_count": 19,
      "outputs": []
    },
    {
      "cell_type": "code",
      "source": [
        "train_batches = ImageDataGenerator(validation_split=0.1) \\\n",
        "                .flow_from_directory(directory=train_path,  \n",
        "                                     classes = ['NonDemented', 'VeryMildDemented', \n",
        "                                                'MildDemented', 'ModerateDemented'], \n",
        "                                     subset='training',\n",
        "                                     batch_size=10)\n",
        "\n",
        "validation_batches = ImageDataGenerator(validation_split=0.1) \\\n",
        "                     .flow_from_directory(directory=train_path, \n",
        "                                          classes = ['NonDemented', 'VeryMildDemented', \n",
        "                                                     'MildDemented', 'ModerateDemented'], \n",
        "                                          subset='validation',\n",
        "                                          batch_size=10)\n",
        "                \n",
        "test_batches = ImageDataGenerator() \\\n",
        "                    .flow_from_directory(directory=test_path, \n",
        "                                         classes = ['NonDemented', 'VeryMildDemented', \n",
        "                                                    'MildDemented', 'ModerateDemented'], \n",
        "                                         batch_size=10, \n",
        "                                         shuffle=False)"
      ],
      "metadata": {
        "colab": {
          "base_uri": "https://localhost:8080/"
        },
        "id": "Opg4mAfXIoEN",
        "outputId": "f0bb5dc2-fb82-4ede-e8e3-5f1dfc20674e"
      },
      "execution_count": 20,
      "outputs": [
        {
          "output_type": "stream",
          "name": "stdout",
          "text": [
            "Found 4610 images belonging to 4 classes.\n",
            "Found 511 images belonging to 4 classes.\n",
            "Found 1279 images belonging to 4 classes.\n"
          ]
        }
      ]
    },
    {
      "cell_type": "code",
      "source": [
        "data = {'NonDemented':      0, \n",
        "        'VeryMildDemented': 0, \n",
        "        'MildDemented':     0,\n",
        "        'ModerateDemented': 0}\n",
        "\n",
        "for cls in os.listdir(train_path):\n",
        "    for img in os.listdir(train_path + '/' + cls):\n",
        "        data[cls] = data[cls] + 1\n",
        "\n",
        "keys = list(data.keys())\n",
        "values = list(data.values())\n",
        "  \n",
        "fig = plt.figure(figsize = (10, 5))\n",
        " \n",
        "plt.bar(keys, values, color=(0.7, 0.2, 0.4, 0.9), width = 0.4)"
      ],
      "metadata": {
        "colab": {
          "base_uri": "https://localhost:8080/",
          "height": 337
        },
        "id": "CcLwkkRwIoAZ",
        "outputId": "4fc29847-8103-4fd7-dd2b-baf25d0e5b53"
      },
      "execution_count": 21,
      "outputs": [
        {
          "output_type": "execute_result",
          "data": {
            "text/plain": [
              "<BarContainer object of 4 artists>"
            ]
          },
          "metadata": {},
          "execution_count": 21
        },
        {
          "output_type": "display_data",
          "data": {
            "text/plain": [
              "<Figure size 720x360 with 1 Axes>"
            ],
            "image/png": "[encoded data removed]"
          },
          "metadata": {
            "needs_background": "light"
          }
        }
      ]
    },
    {
      "cell_type": "code",
      "source": [
        "IMG_SIZE = 224\n",
        "n_classes = 4\n",
        "\n",
        "model = Sequential([layers.Resizing(IMG_SIZE, IMG_SIZE),\n",
        "                    layers.Rescaling(1./255),\n",
        "                    layers.Conv2D(filters=32, kernel_size=(3, 3), activation='relu', \n",
        "                                  padding = 'same', input_shape=(IMG_SIZE,IMG_SIZE,3)),\n",
        "                    layers.BatchNormalization(),\n",
        "                    layers.MaxPool2D(pool_size=(2, 2)),\n",
        "                    layers.Conv2D(filters=64, kernel_size=(3, 3), \n",
        "                                  activation='relu', padding = 'same'),\n",
        "                    layers.BatchNormalization(),\n",
        "                    layers.MaxPool2D(pool_size=(2, 2)),\n",
        "                    layers.Conv2D(filters=128, kernel_size=(3, 3), \n",
        "                                  activation='relu', padding = 'same'),\n",
        "                    layers.BatchNormalization(),\n",
        "                    layers.MaxPool2D(pool_size=(2, 2)),\n",
        "                    layers.Conv2D(filters=256, kernel_size=(3, 3), \n",
        "                                  activation='relu', padding = 'same'),\n",
        "                    layers.BatchNormalization(),\n",
        "                    layers.MaxPool2D(pool_size=(2, 2)),\n",
        "                    layers.Flatten(),\n",
        "                    layers.Dense(300, activation='relu'),\n",
        "                    layers.Dense(150, activation='relu'),\n",
        "                    layers.Dropout(0.25),\n",
        "                    layers.Dense(n_classes, activation='softmax')])"
      ],
      "metadata": {
        "id": "h7DtHhdpIn8J"
      },
      "execution_count": 22,
      "outputs": []
    },
    {
      "cell_type": "code",
      "source": [
        "METRICS = [keras.metrics.CategoricalAccuracy(name='accuracy'),\n",
        "           keras.metrics.Precision(name='precision'),\n",
        "           keras.metrics.Recall(name='recall'),\n",
        "           keras.metrics.AUC(name='auc')]"
      ],
      "metadata": {
        "id": "IOdz-T-rIn40"
      },
      "execution_count": 23,
      "outputs": []
    },
    {
      "cell_type": "code",
      "source": [
        "model.compile(optimizer=tf.keras.optimizers.Adam(learning_rate=0.0001), \n",
        "              loss='categorical_crossentropy', \n",
        "              metrics=METRICS)"
      ],
      "metadata": {
        "id": "0kCuCU_aIn1j"
      },
      "execution_count": 24,
      "outputs": []
    },
    {
      "cell_type": "code",
      "source": [
        "EPOCHS = 5\n",
        "BATCH_SIZE = 8"
      ],
      "metadata": {
        "id": "UZ1BTTeQInfs"
      },
      "execution_count": 25,
      "outputs": []
    },
    {
      "cell_type": "code",
      "source": [
        "history = model.fit(x=train_batches,\n",
        "                    validation_data=validation_batches,\n",
        "                    steps_per_epoch=len(train_batches),\n",
        "                    validation_steps=len(validation_batches),\n",
        "                    epochs=EPOCHS,\n",
        "                    batch_size=BATCH_SIZE, \n",
        "                    verbose=2)"
      ],
      "metadata": {
        "colab": {
          "base_uri": "https://localhost:8080/"
        },
        "id": "M5zdNr9NInci",
        "outputId": "5196cf4c-e333-4c48-829d-1a5f12bf5aba"
      },
      "execution_count": 27,
      "outputs": [
        {
          "output_type": "stream",
          "name": "stdout",
          "text": [
            "Epoch 1/5\n",
            "461/461 - 20s - loss: 0.0733 - accuracy: 0.9733 - precision: 0.9763 - recall: 0.9722 - auc: 0.9986 - val_loss: 0.1859 - val_accuracy: 0.9315 - val_precision: 0.9368 - val_recall: 0.9276 - val_auc: 0.9935 - 20s/epoch - 43ms/step\n",
            "Epoch 2/5\n",
            "461/461 - 25s - loss: 0.0353 - accuracy: 0.9887 - precision: 0.9891 - recall: 0.9881 - auc: 0.9997 - val_loss: 0.2709 - val_accuracy: 0.8982 - val_precision: 0.9035 - val_recall: 0.8982 - val_auc: 0.9865 - 25s/epoch - 54ms/step\n",
            "Epoch 3/5\n",
            "461/461 - 17s - loss: 0.0251 - accuracy: 0.9926 - precision: 0.9931 - recall: 0.9924 - auc: 0.9997 - val_loss: 0.3249 - val_accuracy: 0.8689 - val_precision: 0.8770 - val_recall: 0.8650 - val_auc: 0.9812 - 17s/epoch - 36ms/step\n",
            "Epoch 4/5\n",
            "461/461 - 18s - loss: 0.0326 - accuracy: 0.9887 - precision: 0.9894 - recall: 0.9887 - auc: 0.9998 - val_loss: 0.1044 - val_accuracy: 0.9609 - val_precision: 0.9609 - val_recall: 0.9609 - val_auc: 0.9979 - 18s/epoch - 39ms/step\n",
            "Epoch 5/5\n",
            "461/461 - 18s - loss: 0.0061 - accuracy: 0.9978 - precision: 0.9980 - recall: 0.9978 - auc: 1.0000 - val_loss: 0.1194 - val_accuracy: 0.9550 - val_precision: 0.9569 - val_recall: 0.9550 - val_auc: 0.9974 - 18s/epoch - 39ms/step\n"
          ]
        }
      ]
    },
    {
      "cell_type": "code",
      "source": [
        "plt.plot(history.history['accuracy'])\n",
        "plt.plot(history.history['val_accuracy'])\n",
        "plt.title('model accuracy')\n",
        "plt.ylabel('accuracy')\n",
        "plt.xlabel('epoch')\n",
        "plt.legend(['train', 'test'], loc='upper left')\n",
        "plt.show()"
      ],
      "metadata": {
        "colab": {
          "base_uri": "https://localhost:8080/",
          "height": 295
        },
        "id": "cQkvCauRInZk",
        "outputId": "4dedb743-68e4-42f2-c3a6-2a78f207ca7f"
      },
      "execution_count": 28,
      "outputs": [
        {
          "output_type": "display_data",
          "data": {
            "text/plain": [
              "<Figure size 432x288 with 1 Axes>"
            ],
            "image/png": "[encoded data removed]"
          },
          "metadata": {
            "needs_background": "light"
          }
        }
      ]
    },
    {
      "cell_type": "code",
      "source": [
        "plt.plot(history.history['loss'])\n",
        "plt.plot(history.history['val_loss'])\n",
        "plt.title('model loss')\n",
        "plt.ylabel('loss')\n",
        "plt.xlabel('epoch')\n",
        "plt.legend(['train', 'test'], loc='upper left')\n",
        "plt.show()"
      ],
      "metadata": {
        "colab": {
          "base_uri": "https://localhost:8080/",
          "height": 295
        },
        "id": "jyymzP-gInWc",
        "outputId": "257de14e-3c12-4091-8670-311027f5ef7e"
      },
      "execution_count": 29,
      "outputs": [
        {
          "output_type": "display_data",
          "data": {
            "text/plain": [
              "<Figure size 432x288 with 1 Axes>"
            ],
            "image/png": "[encoded data removed]"
          },
          "metadata": {
            "needs_background": "light"
          }
        }
      ]
    },
    {
      "cell_type": "code",
      "source": [
        "results = model.evaluate(test_batches, verbose=0)\n",
        "\n",
        "for name, value in zip(model.metrics_names, results):\n",
        "    print(name, ': ', value)"
      ],
      "metadata": {
        "colab": {
          "base_uri": "https://localhost:8080/"
        },
        "id": "LLXGE4hXInRM",
        "outputId": "393905a4-86a8-42e6-e2e8-cd215e593a0a"
      },
      "execution_count": 32,
      "outputs": [
        {
          "output_type": "stream",
          "name": "stdout",
          "text": [
            "loss :  1.1294286251068115\n",
            "accuracy :  0.7028928995132446\n",
            "precision :  0.7085307836532593\n",
            "recall :  0.7013291716575623\n",
            "auc :  0.8937482237815857\n"
          ]
        }
      ]
    },
    {
      "cell_type": "code",
      "source": [
        "def ECA(x):\n",
        "    k_size = 3 \n",
        "    squeeze = tf.reduce_mean(x,(2,3),keepdims=False)\n",
        "    squeeze = tf.expand_dims(squeeze, axis=1)\n",
        "    attn = layers.Conv1D(filters=1,\n",
        "    kernel_size=k_size,\n",
        "    padding='same',\n",
        "    kernel_initializer='random_normal',\n",
        "    use_bias=False)(squeeze)\n",
        "\n",
        "    attn = tf.expand_dims(tf.transpose(attn, [0, 2, 1]), 3)\n",
        "    attn = tf.math.sigmoid(attn)\n",
        "    scale = x * attn\n",
        "    return x * attn"
      ],
      "metadata": {
        "id": "diNuGJwRInH6"
      },
      "execution_count": null,
      "outputs": []
    },
    {
      "cell_type": "code",
      "source": [
        "IMG_SIZE = 224\n",
        "n_classes = 4\n",
        "\n",
        "inp = layers.Input(shape=(IMG_SIZE,IMG_SIZE,3))\n",
        "x1 = layers.Resizing(IMG_SIZE, IMG_SIZE)(inp)\n",
        "x2 = layers.Rescaling(1./255)(x1)\n",
        "x3 = layers.Conv2D(filters=32, kernel_size=(3, 3), activation='relu', \n",
        "                   padding = 'same', input_shape=(IMG_SIZE,IMG_SIZE,3))(x2)\n",
        "x4 = ECA(x3)\n",
        "x5 = layers.BatchNormalization(axis=-1)(x4)\n",
        "x6 = layers.MaxPool2D(pool_size=(2, 2))(x5)\n",
        "x7 = layers.Conv2D(filters=64, kernel_size=(3, 3), \n",
        "                   activation='relu', padding = 'same')(x6)\n",
        "x8 = ECA(x7)\n",
        "x9 = layers.BatchNormalization(axis=-1)(x8)\n",
        "x10 = layers.MaxPool2D(pool_size=(2, 2))(x9)\n",
        "x11 = layers.Conv2D(filters=128, kernel_size=(3, 3), \n",
        "                    activation='relu', padding = 'same')(x10)\n",
        "x12 = ECA(x11)\n",
        "x13 = layers.BatchNormalization(axis=-1)(x12)\n",
        "x14 = layers.MaxPool2D(pool_size=(2, 2))(x13)\n",
        "x15 = layers.Conv2D(filters=256, kernel_size=(3, 3), \n",
        "                      activation='relu', padding = 'same')(x14)\n",
        "x16 = ECA(x15)\n",
        "x17 = layers.BatchNormalization(axis=-1)(x16)\n",
        "x18 = layers.MaxPool2D(pool_size=(2, 2))(x17)\n",
        "y1 = layers.Flatten()(x18)\n",
        "y2 = layers.Dense(300, activation='relu')(y1)\n",
        "y3 = layers.Dense(150, activation='relu')(y2)\n",
        "y4 = layers.Dropout(0.25)(y3)\n",
        "y = layers.Dense(n_classes, activation='softmax')(y4)   \n",
        "\n",
        "\n",
        "model_ECA = tf.keras.Model(inp, y)"
      ],
      "metadata": {
        "id": "9hZH-urnIm7d"
      },
      "execution_count": null,
      "outputs": []
    },
    {
      "cell_type": "code",
      "source": [
        "model_ECA.compile(optimizer=tf.keras.optimizers.Adam(learning_rate=0.0001), \n",
        "                  loss='categorical_crossentropy', \n",
        "                  metrics=METRICS)"
      ],
      "metadata": {
        "id": "n-fjCZijImuo"
      },
      "execution_count": null,
      "outputs": []
    },
    {
      "cell_type": "code",
      "source": [
        "history_ECA = model_ECA.fit(x=train_batches,\n",
        "                            validation_data=validation_batches,\n",
        "                            steps_per_epoch=len(train_batches),\n",
        "                            validation_steps=len(validation_batches),\n",
        "                            epochs=EPOCHS,\n",
        "                            batch_size=BATCH_SIZE, \n",
        "                            verbose=2)"
      ],
      "metadata": {
        "id": "iaqO3-gDImhz"
      },
      "execution_count": null,
      "outputs": []
    },
    {
      "cell_type": "code",
      "source": [
        "model_ECA.summary()"
      ],
      "metadata": {
        "id": "uBL2jpJUImPs"
      },
      "execution_count": null,
      "outputs": []
    },
    {
      "cell_type": "code",
      "source": [
        "plot_loss(history_ECA, 0)"
      ],
      "metadata": {
        "id": "aMQrvNiSK34e"
      },
      "execution_count": null,
      "outputs": []
    },
    {
      "cell_type": "code",
      "source": [
        "results = model_ECA.evaluate(test_batches, verbose=0)\n",
        "\n",
        "for name, value in zip(model_ECA.metrics_names, results):\n",
        "    print(name, ': ', value)"
      ],
      "metadata": {
        "id": "WD0kIrTHK3zY"
      },
      "execution_count": null,
      "outputs": []
    },
    {
      "cell_type": "code",
      "source": [
        "def cbam_block(cbam_feature, ratio=8):\n",
        "    \"\"\"Contains the implementation of Convolutional Block Attention Module(CBAM) block.\n",
        "    As described in https://arxiv.org/abs/1807.06521.\n",
        "    \"\"\"\n",
        "    \n",
        "    cbam_feature = channel_attention(cbam_feature, ratio)\n",
        "    cbam_feature = spatial_attention(cbam_feature)\n",
        "    return cbam_feature\n",
        "\n",
        "def channel_attention(input_feature, ratio=8):\n",
        "    \n",
        "    channel_axis = 1 if K.image_data_format() == \"channels_first\" else -1\n",
        "    channel = input_feature.shape[channel_axis]\n",
        "    \n",
        "    shared_layer_one = Dense(channel//ratio,\n",
        "                             activation='relu',\n",
        "                             kernel_initializer='he_normal',\n",
        "                             use_bias=True,\n",
        "                             bias_initializer='zeros')\n",
        "    shared_layer_two = Dense(channel,\n",
        "                             kernel_initializer='he_normal',\n",
        "                             use_bias=True,\n",
        "                             bias_initializer='zeros')\n",
        "    \n",
        "    avg_pool = GlobalAveragePooling2D()(input_feature)    \n",
        "    avg_pool = Reshape((1,1,channel))(avg_pool)\n",
        "    assert avg_pool.shape[1:] == (1,1,channel)\n",
        "    avg_pool = shared_layer_one(avg_pool)\n",
        "    assert avg_pool.shape[1:] == (1,1,channel//ratio)\n",
        "    avg_pool = shared_layer_two(avg_pool)\n",
        "    assert avg_pool.shape[1:] == (1,1,channel)\n",
        "    \n",
        "    max_pool = GlobalMaxPooling2D()(input_feature)\n",
        "    max_pool = Reshape((1,1,channel))(max_pool)\n",
        "    assert max_pool.shape[1:] == (1,1,channel)\n",
        "    max_pool = shared_layer_one(max_pool)\n",
        "    assert max_pool.shape[1:] == (1,1,channel//ratio)\n",
        "    max_pool = shared_layer_two(max_pool)\n",
        "    assert max_pool.shape[1:] == (1,1,channel)\n",
        "    \n",
        "    cbam_feature = Add()([avg_pool,max_pool])\n",
        "    cbam_feature = Activation('sigmoid')(cbam_feature)\n",
        "    \n",
        "    if K.image_data_format() == \"channels_first\":\n",
        "        cbam_feature = Permute((3, 1, 2))(cbam_feature)\n",
        "    \n",
        "    return multiply([input_feature, cbam_feature])\n",
        "\n",
        "def spatial_attention(input_feature):\n",
        "    kernel_size = 7\n",
        "    \n",
        "    if K.image_data_format() == \"channels_first\":\n",
        "        channel = input_feature.shape[1]\n",
        "        cbam_feature = Permute((2,3,1))(input_feature)\n",
        "    else:\n",
        "        channel = input_feature.shape[-1]\n",
        "        cbam_feature = input_feature\n",
        "\n",
        "    avg_pool = Lambda(lambda x: K.mean(x, axis=3, keepdims=True))(cbam_feature)\n",
        "    assert avg_pool.shape[-1] == 1\n",
        "    max_pool = Lambda(lambda x: K.max(x, axis=3, keepdims=True))(cbam_feature)\n",
        "    assert max_pool.shape[-1] == 1\n",
        "    concat = Concatenate(axis=3)([avg_pool, max_pool])\n",
        "    assert concat.shape[-1] == 2\n",
        "    cbam_feature = Conv2D(filters = 1,\n",
        "                    kernel_size=kernel_size,\n",
        "                    strides=1,\n",
        "                    padding='same',\n",
        "                    activation='sigmoid',\n",
        "                    kernel_initializer='he_normal',\n",
        "                    use_bias=False)(concat)\t\n",
        "    assert cbam_feature.shape[-1] == 1\n",
        "    \n",
        "    if K.image_data_format() == \"channels_first\":\n",
        "        cbam_feature = Permute((3, 1, 2))(cbam_feature)\n",
        "    \n",
        "    return multiply([input_feature, cbam_feature])"
      ],
      "metadata": {
        "id": "Xj06jqjLK3t7"
      },
      "execution_count": null,
      "outputs": []
    },
    {
      "cell_type": "code",
      "source": [
        "IMG_SIZE = 224\n",
        "n_classes = 4\n",
        "\n",
        "inp = layers.Input(shape=(IMG_SIZE,IMG_SIZE,3))\n",
        "x1 = layers.Resizing(IMG_SIZE, IMG_SIZE)(inp)\n",
        "x2 = layers.Rescaling(1./255)(x1)\n",
        "x3 = layers.Conv2D(filters=32, kernel_size=(3, 3), activation='relu', \n",
        "                   padding = 'same', input_shape=(IMG_SIZE,IMG_SIZE,3))(x2)\n",
        "x4 = cbam_block(x3)\n",
        "x5 = layers.BatchNormalization(axis=-1)(x4)\n",
        "x6 = layers.MaxPool2D(pool_size=(2, 2))(x5)\n",
        "x7 = layers.Conv2D(filters=64, kernel_size=(3, 3), \n",
        "                   activation='relu', padding = 'same')(x6)\n",
        "x8 = cbam_block(x7)\n",
        "x9 = layers.BatchNormalization(axis=-1)(x8)\n",
        "x10 = layers.MaxPool2D(pool_size=(2, 2))(x9)\n",
        "x11 = layers.Conv2D(filters=128, kernel_size=(3, 3), \n",
        "                    activation='relu', padding = 'same')(x10)\n",
        "x12 = cbam_block(x11)\n",
        "x13 = layers.BatchNormalization(axis=-1)(x12)\n",
        "x14 = layers.MaxPool2D(pool_size=(2, 2))(x13)\n",
        "x15 = layers.Conv2D(filters=256, kernel_size=(3, 3), \n",
        "                      activation='relu', padding = 'same')(x14)\n",
        "x16 = cbam_block(x15)\n",
        "x17 = layers.BatchNormalization(axis=-1)(x16)\n",
        "x18 = layers.MaxPool2D(pool_size=(2, 2))(x17)\n",
        "y1 = layers.Flatten()(x18)\n",
        "y2 = layers.Dense(300, activation='relu')(y1)\n",
        "y3 = layers.Dense(150, activation='relu')(y2)\n",
        "y4 = layers.Dropout(0.25)(y3)\n",
        "y = layers.Dense(n_classes, activation='softmax')(y4)   \n",
        "\n",
        "\n",
        "model_CBAM = tf.keras.Model(inp, y)"
      ],
      "metadata": {
        "id": "lUrTONrbK3lZ"
      },
      "execution_count": null,
      "outputs": []
    },
    {
      "cell_type": "code",
      "source": [
        "model_CBAM.compile(optimizer=tf.keras.optimizers.Adam(learning_rate=0.0001), \n",
        "                   loss='categorical_crossentropy', \n",
        "                   metrics=METRICS)"
      ],
      "metadata": {
        "id": "A_4-CBuwK3al"
      },
      "execution_count": null,
      "outputs": []
    },
    {
      "cell_type": "code",
      "source": [
        "history_CBAM = model_CBAM.fit(x=train_batches,\n",
        "                              validation_data=validation_batches,\n",
        "                              steps_per_epoch=len(train_batches),\n",
        "                              validation_steps=len(validation_batches),\n",
        "                              epochs=EPOCHS,\n",
        "                              batch_size=BATCH_SIZE, \n",
        "                              verbose=2)"
      ],
      "metadata": {
        "id": "gsqcLt_JLO1T"
      },
      "execution_count": null,
      "outputs": []
    },
    {
      "cell_type": "code",
      "source": [
        "model_CBAM.summary()"
      ],
      "metadata": {
        "id": "3PIQhFQtLOuv"
      },
      "execution_count": null,
      "outputs": []
    },
    {
      "cell_type": "code",
      "source": [
        "plot_loss(history_CBAM, 0)"
      ],
      "metadata": {
        "id": "kZHHj1ONLOpE"
      },
      "execution_count": null,
      "outputs": []
    },
    {
      "cell_type": "code",
      "source": [
        "results = model_CBAM.evaluate(test_batches, verbose=0)\n",
        "\n",
        "for name, value in zip(model_CBAM.metrics_names, results):\n",
        "    print(name, ': ', value)"
      ],
      "metadata": {
        "id": "tinISKbNLOfP"
      },
      "execution_count": null,
      "outputs": []
    },
    {
      "cell_type": "code",
      "source": [
        "class GradCAM:\n",
        "    def __init__(self, model, classIdx, layerName=None):\n",
        "        self.model = model\n",
        "        self.classIdx = classIdx\n",
        "        self.layerName = layerName\n",
        "\n",
        "        if self.layerName is None:\n",
        "            self.layerName = self.find_target_layer()\n",
        "            \n",
        "    def find_target_layer(self):\n",
        "        for layer in reversed(self.model.layers):\n",
        "            if len(layer.output_shape) == 4:\n",
        "                return layer.name\n",
        "        raise ValueError(\"Could not find 4D layer. Cannot apply GradCAM.\")\n",
        "        \n",
        "    def compute_heatmap(self, image, eps=1e-8):\n",
        "\n",
        "        gradModel = tf.keras.Model(\n",
        "        inputs=[self.model.inputs],\n",
        "        outputs=[self.model.get_layer(self.layerName).output,\n",
        "                 self.model.output])\n",
        "      \n",
        "        with tf.GradientTape() as tape:\n",
        "\n",
        "            inputs = tf.cast(image, tf.float32)\n",
        "            (convOutputs, predictions) = gradModel(inputs)\n",
        "            loss = predictions[:, self.classIdx]\n",
        "        \n",
        "\n",
        "        grads = tape.gradient(loss, convOutputs)\n",
        "\n",
        "        castConvOutputs = tf.cast(convOutputs > 0, \"float32\")\n",
        "        castGrads = tf.cast(grads > 0, \"float32\")\n",
        "        guidedGrads = castConvOutputs * castGrads * grads\n",
        "        \n",
        "      \n",
        "        convOutputs = convOutputs[0]\n",
        "        guidedGrads = guidedGrads[0]\n",
        "        \n",
        "\n",
        "        weights = tf.reduce_mean(guidedGrads, axis=(0, 1))\n",
        "        cam = tf.reduce_sum(tf.multiply(weights, convOutputs), axis=-1)\n",
        "\n",
        "        (w, h) = (image.shape[2], image.shape[1])\n",
        "        heatmap = cv2.resize(cam.numpy(), (w, h))\n",
        "    \n",
        "        numer = heatmap - np.min(heatmap)\n",
        "        denom = (heatmap.max() - heatmap.min()) + eps\n",
        "        heatmap = numer / denom\n",
        "        heatmap = (heatmap * 255).astype(\"uint8\")\n",
        "\n",
        "        return heatmap\n",
        "\n",
        "    def overlay_heatmap(self, heatmap, image, alpha=0.5,\n",
        "        colormap=cv2.COLORMAP_VIRIDIS):\n",
        "\n",
        "        heatmap = cv2.applyColorMap(heatmap, colormap)\n",
        "        image = np.asarray(image, np.float64)\n",
        "        heatmap = np.asarray(heatmap, np.float64)\n",
        "        output = cv2.addWeighted(image, alpha, heatmap, 1 - alpha, 0)\n",
        "\n",
        "        return (heatmap, output)"
      ],
      "metadata": {
        "id": "sgwGmAvOK3PG"
      },
      "execution_count": null,
      "outputs": []
    },
    {
      "cell_type": "code",
      "source": [
        "def show_heatmap(model, img_path):\n",
        "    image = load_img(img_path, target_size=(224, 224))\n",
        "    image = img_to_array(image)\n",
        "    image = np.expand_dims(image, axis=0)\n",
        "    preds = model.predict(image)\n",
        "    i = np.argmax(preds[0])\n",
        "    label_to_class = {'NonDemented': 0,\n",
        "                      'VeryMildDemented': 1,\n",
        "                      'MildDemented': 2,\n",
        "                      'ModerateDemented': 3}\n",
        "\n",
        "    class_to_label = {v: k for k, v in label_to_class.items()}\n",
        "\n",
        "    label = class_to_label[i]\n",
        "    print(f'Predicted class: {label} | Prediction probability: {max(preds[0]) * 100}%')\n",
        "    \n",
        "    cam = GradCAM(model, i)\n",
        "    heatmap = cam.compute_heatmap(image)\n",
        "\n",
        "    (heatmap, output) = cam.overlay_heatmap(heatmap, image[0], alpha=0.5)\n",
        "    \n",
        "    output = output.astype(np.uint8)\n",
        "    plt.imshow(output, interpolation='nearest')\n",
        "    plt.show()"
      ],
      "metadata": {
        "id": "wJ-Isy2ELXq7"
      },
      "execution_count": null,
      "outputs": []
    },
    {
      "cell_type": "code",
      "source": [
        "from tensorflow.keras.preprocessing.image import load_img"
      ],
      "metadata": {
        "id": "Jb4LeWL3LXnR"
      },
      "execution_count": null,
      "outputs": []
    },
    {
      "cell_type": "code",
      "source": [
        "from tensorflow.keras.preprocessing.image import img_to_array"
      ],
      "metadata": {
        "id": "tkY7w13eLXiU"
      },
      "execution_count": null,
      "outputs": []
    },
    {
      "cell_type": "code",
      "source": [
        "img_path = \"/content/drive/MyDrive/Alzheimer_s Dataset-2/train/ModerateDemented/moderateDem0.jpg\"\n",
        "show_heatmap(model,img_path)"
      ],
      "metadata": {
        "id": "iSlYLTelLXcy"
      },
      "execution_count": null,
      "outputs": []
    },
    {
      "cell_type": "code",
      "source": [
        "img_path = \"/content/drive/MyDrive/Alzheimer_s Dataset-2/test/NonDemented/26 (62).jpg\"\n",
        "show_heatmap(model,img_path)"
      ],
      "metadata": {
        "id": "EYSS9Go-LXXB"
      },
      "execution_count": null,
      "outputs": []
    }
  ]
}